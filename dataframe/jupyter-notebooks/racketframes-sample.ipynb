{
 "cells": [
  {
   "cell_type": "code",
   "execution_count": 20,
   "metadata": {},
   "outputs": [
    {
     "name": "stderr",
     "output_type": "stream",
     "text": [
      "instantiate-linklet: mismatch;\n",
      " reference to a variable that is unintialized;\n",
      " possibly, bytecode file needs re-compile because dependencies changed\n",
      "  name: get-double-click-time\n",
      "  exporting instance: \"/Applications/Racket v7.0/share/pkgs/gui-lib/mred/private/wx/platform.rkt\"\n",
      "  importing instance: \"/Applications/Racket v7.0/share/pkgs/gui-lib/mred/private/wxme/keymap.rkt\"\n",
      "  context...:\n",
      "   for-loop\n",
      "   run-module-instance!125\n",
      "   for-loop\n",
      "   [repeats 1 more time]\n",
      "   run-module-instance!125\n",
      "   for-loop\n",
      "   [repeats 1 more time]\n",
      "   run-module-instance!125\n",
      "   for-loop\n",
      "   [repeats 1 more time]\n",
      "   run-module-instance!125\n",
      "   for-loop\n",
      "   [repeats 1 more time]\n",
      "   run-module-instance!125\n",
      "   for-loop\n",
      "   [repeats 1 more time]\n",
      "   ...\n"
     ]
    }
   ],
   "source": [
    "(require RacketFrames)"
   ]
  },
  {
   "cell_type": "code",
   "execution_count": 2,
   "metadata": {},
   "outputs": [
    {
     "name": "stderr",
     "output_type": "stream",
     "text": [
      "new-ISeries: undefined;\n",
      " cannot reference an identifier before its definition\n",
      "  in module: top-level\n",
      "  internal name: new-ISeries\n",
      "  context...:\n",
      "   /Applications/Racket v7.0/share/pkgs/sandbox-lib/racket/sandbox.rkt:493:0: call-with-custodian-shutdown\n",
      "   /Applications/Racket v7.0/collects/racket/private/more-scheme.rkt:148:2: call-with-break-parameterization\n",
      "   .../more-scheme.rkt:261:28\n",
      "   /Applications/Racket v7.0/share/pkgs/sandbox-lib/racket/sandbox.rkt:861:5: loop\n"
     ]
    }
   ],
   "source": [
    "(define series-integer (new-ISeries (vector 1 2 3 4)\n",
    "                                      (build-index-from-labels (list 'a 'b 'c 'd))))"
   ]
  },
  {
   "cell_type": "code",
   "execution_count": 3,
   "metadata": {},
   "outputs": [
    {
     "name": "stderr",
     "output_type": "stream",
     "text": [
      "iseries-referencer: undefined;\n",
      " cannot reference an identifier before its definition\n",
      "  in module: top-level\n",
      "  internal name: iseries-referencer\n",
      "  context...:\n",
      "   /Applications/Racket v7.0/share/pkgs/sandbox-lib/racket/sandbox.rkt:493:0: call-with-custodian-shutdown\n",
      "   /Applications/Racket v7.0/collects/racket/private/more-scheme.rkt:148:2: call-with-break-parameterization\n",
      "   .../more-scheme.rkt:261:28\n",
      "   /Applications/Racket v7.0/share/pkgs/sandbox-lib/racket/sandbox.rkt:861:5: loop\n"
     ]
    }
   ],
   "source": [
    "((iseries-referencer series-integer) 0)"
   ]
  },
  {
   "cell_type": "code",
   "execution_count": 4,
   "metadata": {},
   "outputs": [
    {
     "name": "stderr",
     "output_type": "stream",
     "text": [
      "iseries-iref: undefined;\n",
      " cannot reference an identifier before its definition\n",
      "  in module: top-level\n",
      "  internal name: iseries-iref\n",
      "  context...:\n",
      "   /Applications/Racket v7.0/share/pkgs/sandbox-lib/racket/sandbox.rkt:493:0: call-with-custodian-shutdown\n",
      "   /Applications/Racket v7.0/collects/racket/private/more-scheme.rkt:148:2: call-with-break-parameterization\n",
      "   .../more-scheme.rkt:261:28\n",
      "   /Applications/Racket v7.0/share/pkgs/sandbox-lib/racket/sandbox.rkt:861:5: loop\n"
     ]
    }
   ],
   "source": [
    "(iseries-iref series-integer (list 0)) "
   ]
  },
  {
   "cell_type": "code",
   "execution_count": 5,
   "metadata": {},
   "outputs": [
    {
     "name": "stderr",
     "output_type": "stream",
     "text": [
      "new-ISeries: undefined;\n",
      " cannot reference an identifier before its definition\n",
      "  in module: top-level\n",
      "  internal name: new-ISeries\n",
      "  context...:\n",
      "   /Applications/Racket v7.0/share/pkgs/sandbox-lib/racket/sandbox.rkt:676:3\n",
      "   /Applications/Racket v7.0/share/pkgs/sandbox-lib/racket/sandbox.rkt:493:0: call-with-custodian-shutdown\n",
      "   /Applications/Racket v7.0/collects/racket/private/more-scheme.rkt:148:2: call-with-break-parameterization\n",
      "   .../more-scheme.rkt:261:28\n",
      "   /Applications/Racket v7.0/share/pkgs/sandbox-lib/racket/sandbox.rkt:861:5: loop\n"
     ]
    }
   ],
   "source": [
    "(define columns-integer\n",
    "  (list \n",
    "   (cons 'col1 (new-ISeries (vector 1 2 3 4)\n",
    "                            (build-index-from-labels (list 'a 'b 'c 'd))))\n",
    "   (cons 'col2 (new-ISeries (vector 5 6 7 8)\n",
    "                            (build-index-from-labels (list 'e 'f 'g 'h))))\n",
    "   (cons 'col3 (new-ISeries (vector 9 10 11 12)\n",
    "                            (build-index-from-labels (list 'i 'j 'k 'l))))))\n",
    "\n",
    "; create new data-frame-integer\n",
    "(define data-frame-integer (new-data-frame columns-integer))"
   ]
  },
  {
   "cell_type": "code",
   "execution_count": 6,
   "metadata": {},
   "outputs": [
    {
     "name": "stderr",
     "output_type": "stream",
     "text": [
      "data-frame-integer: undefined;\n",
      " cannot reference an identifier before its definition\n",
      "  in module: top-level\n",
      "  internal name: data-frame-integer\n",
      "  context...:\n",
      "   /Applications/Racket v7.0/share/pkgs/sandbox-lib/racket/sandbox.rkt:493:0: call-with-custodian-shutdown\n",
      "   /Applications/Racket v7.0/collects/racket/private/more-scheme.rkt:148:2: call-with-break-parameterization\n",
      "   .../more-scheme.rkt:261:28\n",
      "   /Applications/Racket v7.0/share/pkgs/sandbox-lib/racket/sandbox.rkt:861:5: loop\n"
     ]
    }
   ],
   "source": [
    "data-frame-integer"
   ]
  },
  {
   "cell_type": "code",
   "execution_count": 7,
   "metadata": {},
   "outputs": [
    {
     "name": "stderr",
     "output_type": "stream",
     "text": [
      "data-frame-names: undefined;\n",
      " cannot reference an identifier before its definition\n",
      "  in module: top-level\n",
      "  internal name: data-frame-names\n",
      "  context...:\n",
      "   /Applications/Racket v7.0/share/pkgs/sandbox-lib/racket/sandbox.rkt:493:0: call-with-custodian-shutdown\n",
      "   /Applications/Racket v7.0/collects/racket/private/more-scheme.rkt:148:2: call-with-break-parameterization\n",
      "   .../more-scheme.rkt:261:28\n",
      "   /Applications/Racket v7.0/share/pkgs/sandbox-lib/racket/sandbox.rkt:861:5: loop\n"
     ]
    }
   ],
   "source": [
    "(data-frame-names data-frame-integer) "
   ]
  },
  {
   "cell_type": "code",
   "execution_count": 8,
   "metadata": {},
   "outputs": [
    {
     "name": "stderr",
     "output_type": "stream",
     "text": [
      "data-frame-rename: undefined;\n",
      " cannot reference an identifier before its definition\n",
      "  in module: top-level\n",
      "  internal name: data-frame-rename\n",
      "  context...:\n",
      "   /Applications/Racket v7.0/share/pkgs/sandbox-lib/racket/sandbox.rkt:493:0: call-with-custodian-shutdown\n",
      "   /Applications/Racket v7.0/collects/racket/private/more-scheme.rkt:148:2: call-with-break-parameterization\n",
      "   .../more-scheme.rkt:261:28\n",
      "   /Applications/Racket v7.0/share/pkgs/sandbox-lib/racket/sandbox.rkt:861:5: loop\n"
     ]
    }
   ],
   "source": [
    "(set! data-frame-integer (data-frame-rename data-frame-integer 'col1 'col-one))"
   ]
  },
  {
   "cell_type": "code",
   "execution_count": 9,
   "metadata": {},
   "outputs": [
    {
     "name": "stderr",
     "output_type": "stream",
     "text": [
      "data-frame-names: undefined;\n",
      " cannot reference an identifier before its definition\n",
      "  in module: top-level\n",
      "  internal name: data-frame-names\n",
      "  context...:\n",
      "   /Applications/Racket v7.0/share/pkgs/sandbox-lib/racket/sandbox.rkt:493:0: call-with-custodian-shutdown\n",
      "   /Applications/Racket v7.0/collects/racket/private/more-scheme.rkt:148:2: call-with-break-parameterization\n",
      "   .../more-scheme.rkt:261:28\n",
      "   /Applications/Racket v7.0/share/pkgs/sandbox-lib/racket/sandbox.rkt:861:5: loop\n"
     ]
    }
   ],
   "source": [
    "(data-frame-names data-frame-integer) "
   ]
  },
  {
   "cell_type": "code",
   "execution_count": 10,
   "metadata": {},
   "outputs": [
    {
     "name": "stderr",
     "output_type": "stream",
     "text": [
      "data-frame-series: undefined;\n",
      " cannot reference an identifier before its definition\n",
      "  in module: top-level\n",
      "  internal name: data-frame-series\n",
      "  context...:\n",
      "   /Applications/Racket v7.0/share/pkgs/sandbox-lib/racket/sandbox.rkt:493:0: call-with-custodian-shutdown\n",
      "   /Applications/Racket v7.0/collects/racket/private/more-scheme.rkt:148:2: call-with-break-parameterization\n",
      "   .../more-scheme.rkt:261:28\n",
      "   /Applications/Racket v7.0/share/pkgs/sandbox-lib/racket/sandbox.rkt:861:5: loop\n"
     ]
    }
   ],
   "source": [
    "(data-frame-series data-frame-integer 'col-one)"
   ]
  },
  {
   "cell_type": "code",
   "execution_count": 11,
   "metadata": {},
   "outputs": [
    {
     "name": "stderr",
     "output_type": "stream",
     "text": [
      "data-frame-head: undefined;\n",
      " cannot reference an identifier before its definition\n",
      "  in module: top-level\n",
      "  internal name: data-frame-head\n",
      "  context...:\n",
      "   /Applications/Racket v7.0/share/pkgs/sandbox-lib/racket/sandbox.rkt:493:0: call-with-custodian-shutdown\n",
      "   /Applications/Racket v7.0/collects/racket/private/more-scheme.rkt:148:2: call-with-break-parameterization\n",
      "   .../more-scheme.rkt:261:28\n",
      "   /Applications/Racket v7.0/share/pkgs/sandbox-lib/racket/sandbox.rkt:861:5: loop\n"
     ]
    }
   ],
   "source": [
    "(data-frame-head data-frame-integer)"
   ]
  },
  {
   "cell_type": "code",
   "execution_count": 12,
   "metadata": {},
   "outputs": [
    {
     "name": "stderr",
     "output_type": "stream",
     "text": [
      "data-frame-dim: undefined;\n",
      " cannot reference an identifier before its definition\n",
      "  in module: top-level\n",
      "  internal name: data-frame-dim\n",
      "  context...:\n",
      "   /Applications/Racket v7.0/share/pkgs/sandbox-lib/racket/sandbox.rkt:493:0: call-with-custodian-shutdown\n",
      "   /Applications/Racket v7.0/collects/racket/private/more-scheme.rkt:148:2: call-with-break-parameterization\n",
      "   .../more-scheme.rkt:261:28\n",
      "   /Applications/Racket v7.0/share/pkgs/sandbox-lib/racket/sandbox.rkt:861:5: loop\n"
     ]
    }
   ],
   "source": [
    "(data-frame-dim data-frame-integer)"
   ]
  },
  {
   "cell_type": "code",
   "execution_count": 13,
   "metadata": {},
   "outputs": [
    {
     "name": "stderr",
     "output_type": "stream",
     "text": [
      "ColumnInfo: undefined;\n",
      " cannot reference an identifier before its definition\n",
      "  in module: top-level\n",
      "  internal name: ColumnInfo\n",
      "  context...:\n",
      "   /Applications/Racket v7.0/share/pkgs/sandbox-lib/racket/sandbox.rkt:493:0: call-with-custodian-shutdown\n",
      "   /Applications/Racket v7.0/collects/racket/private/more-scheme.rkt:148:2: call-with-break-parameterization\n",
      "   .../more-scheme.rkt:261:28\n",
      "   /Applications/Racket v7.0/share/pkgs/sandbox-lib/racket/sandbox.rkt:861:5: loop\n"
     ]
    }
   ],
   "source": [
    "(ColumnInfo 'first 'CATEGORICAL)"
   ]
  },
  {
   "cell_type": "code",
   "execution_count": 14,
   "metadata": {},
   "outputs": [
    {
     "name": "stderr",
     "output_type": "stream",
     "text": [
      "new-ISeries: undefined;\n",
      " cannot reference an identifier before its definition\n",
      "  in module: top-level\n",
      "  internal name: new-ISeries\n",
      "  context...:\n",
      "   /Applications/Racket v7.0/share/pkgs/sandbox-lib/racket/sandbox.rkt:676:3\n",
      "   /Applications/Racket v7.0/share/pkgs/sandbox-lib/racket/sandbox.rkt:493:0: call-with-custodian-shutdown\n",
      "   /Applications/Racket v7.0/collects/racket/private/more-scheme.rkt:148:2: call-with-break-parameterization\n",
      "   .../more-scheme.rkt:261:28\n",
      "   /Applications/Racket v7.0/share/pkgs/sandbox-lib/racket/sandbox.rkt:861:5: loop\n"
     ]
    }
   ],
   "source": [
    "(define columns-integer\n",
    "  (list \n",
    "   (cons 'col1 (new-ISeries (vector 1 2 3 4 2 ) #f))\n",
    "   (cons 'col2 (new-ISeries (vector 5 6 7 8 6) #f))\n",
    "   (cons 'col3 (new-ISeries (vector 9 10 11 12 17) #f))\n",
    "   (cons 'col4 (new-ISeries (vector 13 14 15 16 18) #f))))\n",
    "\n",
    "(define columns-categorical\n",
    "  (list \n",
    "   (cons 'col1 (new-CSeries (vector 'a 'b 'c 'd 'e)))\n",
    "   (cons 'col2 (new-CSeries (vector 'e 'f 'g 'h 'i)))\n",
    "   (cons 'col3 (new-CSeries (vector 'j 'k 'l 'm 'n)))))\n",
    "\n",
    "; create new data-frame-integer\n",
    "(define data-frame-integer (new-data-frame columns-integer))\n",
    "\n",
    "; create new data-frame-categorical\n",
    "(define data-frame-categorical (new-data-frame columns-categorical))\n",
    "\n",
    "(data-frame-write-tab data-frame-integer (current-output-port))\n",
    "\n",
    "(displayln \"data-frame-groupby\")\n",
    "(data-frame-groupby data-frame-integer (list 'col1))\n",
    "\n",
    "(data-frame-groupby data-frame-integer (list 'col2))\n",
    "\n",
    "(data-frame-groupby data-frame-integer (list 'col1 'col2))"
   ]
  },
  {
   "cell_type": "code",
   "execution_count": 15,
   "metadata": {},
   "outputs": [
    {
     "name": "stderr",
     "output_type": "stream",
     "text": [
      "new-ISeries: undefined;\n",
      " cannot reference an identifier before its definition\n",
      "  in module: top-level\n",
      "  internal name: new-ISeries\n",
      "  context...:\n",
      "   /Applications/Racket v7.0/share/pkgs/sandbox-lib/racket/sandbox.rkt:676:3\n",
      "   /Applications/Racket v7.0/share/pkgs/sandbox-lib/racket/sandbox.rkt:493:0: call-with-custodian-shutdown\n",
      "   /Applications/Racket v7.0/collects/racket/private/more-scheme.rkt:148:2: call-with-break-parameterization\n",
      "   .../more-scheme.rkt:261:28\n",
      "   /Applications/Racket v7.0/share/pkgs/sandbox-lib/racket/sandbox.rkt:861:5: loop\n"
     ]
    }
   ],
   "source": [
    "(define columns-mixed-5\n",
    "  (list \n",
    "   (cons 'col1 (new-ISeries (vector 1 2 3 4) #f))\n",
    "   (cons 'col2 (new-CSeries (vector 'a 'b 'c 'd)))\n",
    "   (cons 'col3 (new-ISeries (vector 21 22 23 24) #f))))\n",
    "\n",
    "(define columns-mixed-6\n",
    "  (list \n",
    "   (cons 'col1 (new-ISeries (vector 11 21 31 41) #f))\n",
    "   (cons 'col2 (new-CSeries (vector 'a 'b 'g 'd)))\n",
    "   (cons 'col3 (new-ISeries (vector 22 22 23 24) #f))))\n",
    "\n",
    "; create new data-frame-mixed-5\n",
    "(define data-frame-mixed-5 (new-data-frame columns-mixed-5))\n",
    "\n",
    "; create new data-frame-mixed-6\n",
    "(define data-frame-mixed-6 (new-data-frame columns-mixed-6))\n",
    "\n",
    "(data-frame-write-tab data-frame-mixed-5 (current-output-port))\n",
    "\n",
    "(data-frame-write-tab data-frame-mixed-6 (current-output-port))\n",
    "\n",
    "(data-frame-write-tab (data-frame-join-left data-frame-mixed-5 data-frame-mixed-6 #:on (list 'col3)) (current-output-port))\n",
    "\n",
    "(data-frame-write-tab (data-frame-join-inner data-frame-mixed-5 data-frame-mixed-6 #:on (list 'col2)) (current-output-port))\n",
    "\n",
    "(data-frame-write-tab (data-frame-join-right data-frame-mixed-5 data-frame-mixed-6 #:on (list 'col2)) (current-output-port))\n",
    "\n",
    "(data-frame-write-tab (data-frame-join-outer data-frame-mixed-5 data-frame-mixed-6 #:on (list 'col2)) (current-output-port))"
   ]
  },
  {
   "cell_type": "code",
   "execution_count": 16,
   "metadata": {},
   "outputs": [
    {
     "name": "stderr",
     "output_type": "stream",
     "text": [
      "new-ISeries: undefined;\n",
      " cannot reference an identifier before its definition\n",
      "  in module: top-level\n",
      "  internal name: new-ISeries\n",
      "  context...:\n",
      "   /Applications/Racket v7.0/share/pkgs/sandbox-lib/racket/sandbox.rkt:676:3\n",
      "   /Applications/Racket v7.0/share/pkgs/sandbox-lib/racket/sandbox.rkt:493:0: call-with-custodian-shutdown\n",
      "   /Applications/Racket v7.0/collects/racket/private/more-scheme.rkt:148:2: call-with-break-parameterization\n",
      "   .../more-scheme.rkt:261:28\n",
      "   /Applications/Racket v7.0/share/pkgs/sandbox-lib/racket/sandbox.rkt:861:5: loop\n"
     ]
    }
   ],
   "source": [
    "(define columns-mixed-1\n",
    "  (list \n",
    "   (cons 'col1 (new-ISeries (vector 1 2 3 4) #f))\n",
    "   (cons 'col3 (new-CSeries (vector 'a 'b 'c 'd)))\n",
    "   (cons 'col4 (new-ISeries (vector 21 22 23 24) #f))))\n",
    "\n",
    "(define columns-mixed-2\n",
    "  (list \n",
    "   (cons 'col1 (new-ISeries (vector 1 2 3 4) #f))\n",
    "   (cons 'col3 (new-CSeries (vector 'e 'f 'g 'h)))\n",
    "   (cons 'col4 (new-ISeries (vector 1 2 3 4) #f))))\n",
    "\n",
    "; create new data-frame-mixed-1\n",
    "(define data-frame-mixed-1 (new-data-frame columns-mixed-1))\n",
    "\n",
    "; create new data-frame-mixed-2\n",
    "(define data-frame-mixed-2 (new-data-frame columns-mixed-2))\n",
    "\n",
    "(displayln \"Concat Test\")\n",
    "\n",
    "(data-frame-write-tab data-frame-mixed-1 (current-output-port))\n",
    "\n",
    "(data-frame-write-tab data-frame-mixed-2 (current-output-port))\n",
    "\n",
    "(displayln \"Vertical Concat\")\n",
    "\n",
    "(data-frame-write-tab (data-frame-concat-vertical data-frame-mixed-1 data-frame-mixed-2) (current-output-port))\n",
    "\n",
    "(displayln \"Horizontal Concat\")\n",
    "\n",
    "(data-frame-write-tab (data-frame-concat-horizontal data-frame-mixed-1 data-frame-mixed-2) (current-output-port))"
   ]
  },
  {
   "cell_type": "code",
   "execution_count": null,
   "metadata": {},
   "outputs": [],
   "source": []
  },
  {
   "cell_type": "code",
   "execution_count": null,
   "metadata": {},
   "outputs": [],
   "source": []
  }
 ],
 "metadata": {
  "kernelspec": {
   "display_name": "Racket",
   "language": "racket",
   "name": "racket"
  },
  "language_info": {
   "codemirror_mode": "scheme",
   "file_extension": ".rkt",
   "mimetype": "text/x-racket",
   "name": "Racket",
   "pygments_lexer": "racket",
   "version": "7.0"
  }
 },
 "nbformat": 4,
 "nbformat_minor": 2
}
