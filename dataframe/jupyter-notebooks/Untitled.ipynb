{
 "cells": [
  {
   "cell_type": "code",
   "execution_count": 12,
   "metadata": {},
   "outputs": [],
   "source": [
    "(require RacketFrames)"
   ]
  },
  {
   "cell_type": "code",
   "execution_count": 14,
   "metadata": {},
   "outputs": [
    {
     "name": "stderr",
     "output_type": "stream",
     "text": [
      "default-load-handler: cannot open module file\n",
      "  module path: (lib \"RacketFrames/load/load.rkt\")\n",
      "  path: /Applications/Racket v6.12/collects/RacketFrames/load/compiled/load_rkt.zo\n",
      "  system error: No such file or directory; errno=2\n",
      "  context...:\n",
      "   standard-module-name-resolver\n",
      "   /Applications/Racket v6.12/share/pkgs/typed-racket-lib/typed-racket/utils/redirect-contract.rkt:32:2: redirect\n",
      "   [repeats 1 more time]\n",
      "   /Applications/Racket v6.12/share/pkgs/sandbox-lib/racket/sandbox.rkt:676:3\n",
      "   /Applications/Racket v6.12/share/pkgs/sandbox-lib/racket/sandbox.rkt:493:0: call-with-custodian-shutdown\n",
      "   /Applications/Racket v6.12/collects/racket/private/more-scheme.rkt:148:2: call-with-break-parameterization\n",
      "   .../more-scheme.rkt:261:28\n",
      "   /Applications/Racket v6.12/share/pkgs/sandbox-lib/racket/sandbox.rkt:861:5: loop\n"
     ]
    }
   ],
   "source": [
    "(define salary-no-date-data-frame-csv-schema (load-csv-file \"../sample-csv/salary_no_date.csv\" #:schema salary-no-date-schema))\n",
    "\n",
    "(data-frame-head salary-no-date-data-frame-csv-schema)"
   ]
  },
  {
   "cell_type": "code",
   "execution_count": null,
   "metadata": {},
   "outputs": [],
   "source": []
  }
 ],
 "metadata": {
  "kernelspec": {
   "display_name": "Racket",
   "language": "racket",
   "name": "racket"
  },
  "language_info": {
   "codemirror_mode": "scheme",
   "file_extension": ".rkt",
   "mimetype": "text/x-racket",
   "name": "Racket",
   "pygments_lexer": "racket",
   "version": "6.12"
  }
 },
 "nbformat": 4,
 "nbformat_minor": 2
}
