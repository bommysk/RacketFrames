{
 "cells": [
  {
   "cell_type": "code",
   "execution_count": 33,
   "metadata": {},
   "outputs": [],
   "source": [
    "(require RacketFrames)"
   ]
  },
  {
   "cell_type": "code",
   "execution_count": 34,
   "metadata": {},
   "outputs": [
    {
     "name": "stderr",
     "output_type": "stream",
     "text": [
      "standard-module-name-resolver: collection not found\n",
      "  for module path: (submod (lib \"RacketFrames/data-frame/integer-series.rkt\") #%contract-defs)\n",
      "  collection: \"RacketFrames/data-frame\"\n",
      "  in collection directories:\n",
      "   /Applications/Racket v6.12/collects\n",
      "   ... [166 additional linked and package directories]\n",
      "  context...:\n",
      "   show-collection-err\n",
      "   standard-module-name-resolver\n",
      "   /Applications/Racket v6.12/share/pkgs/typed-racket-lib/typed-racket/utils/redirect-contract.rkt:32:2: redirect\n",
      "   [repeats 1 more time]\n",
      "   /Applications/Racket v6.12/share/pkgs/sandbox-lib/racket/sandbox.rkt:493:0: call-with-custodian-shutdown\n",
      "   /Applications/Racket v6.12/collects/racket/private/more-scheme.rkt:148:2: call-with-break-parameterization\n",
      "   .../more-scheme.rkt:261:28\n",
      "   /Applications/Racket v6.12/share/pkgs/sandbox-lib/racket/sandbox.rkt:861:5: loop\n"
     ]
    }
   ],
   "source": [
    "(define series-integer (new-ISeries (vector 1 2 3 4)\n",
    "                                      (build-index-from-labels (list 'a 'b 'c 'd))))"
   ]
  },
  {
   "cell_type": "code",
   "execution_count": 28,
   "metadata": {},
   "outputs": [
    {
     "data": {
      "text/html": [
       "<code>'#(1 2 3 4)</code>"
      ],
      "text/plain": [
       "'#(1 2 3 4)"
      ]
     },
     "execution_count": 28,
     "metadata": {},
     "output_type": "execute_result"
    }
   ],
   "source": [
    "(vector 1 2 3 4)"
   ]
  },
  {
   "cell_type": "code",
   "execution_count": null,
   "metadata": {},
   "outputs": [],
   "source": []
  }
 ],
 "metadata": {
  "kernelspec": {
   "display_name": "Racket",
   "language": "racket",
   "name": "racket"
  },
  "language_info": {
   "codemirror_mode": "scheme",
   "file_extension": ".rkt",
   "mimetype": "text/x-racket",
   "name": "Racket",
   "pygments_lexer": "racket",
   "version": "6.12"
  }
 },
 "nbformat": 4,
 "nbformat_minor": 2
}
