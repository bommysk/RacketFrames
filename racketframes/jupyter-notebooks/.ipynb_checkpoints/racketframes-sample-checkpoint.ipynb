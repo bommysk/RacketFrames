{
 "cells": [
  {
   "cell_type": "code",
   "execution_count": 44,
   "metadata": {},
   "outputs": [],
   "source": [
    "(require RacketFrames)"
   ]
  },
  {
   "cell_type": "code",
   "execution_count": 45,
   "metadata": {},
   "outputs": [],
   "source": [
    "(define series-integer (new-ISeries (vector 1 2 3 4)\n",
    "                                      (build-index-from-labels (list 'a 'b 'c 'd))))"
   ]
  },
  {
   "cell_type": "code",
   "execution_count": 46,
   "metadata": {},
   "outputs": [
    {
     "data": {
      "text/html": [
       "<code>1</code>"
      ],
      "text/plain": [
       "1"
      ]
     },
     "execution_count": 46,
     "metadata": {},
     "output_type": "execute_result"
    }
   ],
   "source": [
    "((iseries-referencer series-integer) 0)"
   ]
  },
  {
   "cell_type": "code",
   "execution_count": 47,
   "metadata": {},
   "outputs": [
    {
     "data": {
      "text/html": [
       "<code>'(1)</code>"
      ],
      "text/plain": [
       "'(1)"
      ]
     },
     "execution_count": 47,
     "metadata": {},
     "output_type": "execute_result"
    }
   ],
   "source": [
    "(iseries-iref series-integer (list 0)) "
   ]
  },
  {
   "cell_type": "code",
   "execution_count": 48,
   "metadata": {},
   "outputs": [],
   "source": [
    "(define columns-integer\n",
    "  (list \n",
    "   (cons 'col1 (new-ISeries (vector 1 2 3 4)\n",
    "                            (build-index-from-labels (list 'a 'b 'c 'd))))\n",
    "   (cons 'col2 (new-ISeries (vector 5 6 7 8)\n",
    "                            (build-index-from-labels (list 'e 'f 'g 'h))))\n",
    "   (cons 'col3 (new-ISeries (vector 9 10 11 12)\n",
    "                            (build-index-from-labels (list 'i 'j 'k 'l))))))\n",
    "\n",
    "; create new data-frame-integer\n",
    "(define data-frame-integer (new-data-frame columns-integer))"
   ]
  },
  {
   "cell_type": "code",
   "execution_count": 49,
   "metadata": {},
   "outputs": [
    {
     "data": {
      "text/html": [
       "<code>(DataFrame '#hash((col2 . (1)) (col3 . (2)) (col1 . (0))) (vector (ISeries '#hash((b . (1)) (c . (2)) (d . (3)) (a . (0))) '#(1 2 3 4)) (ISeries '#hash((f . (1)) (g . (2)) (h . (3)) (e . (0))) '#(5 6 7 8)) (ISeries '#hash((j . (1)) (l . (3)) (k . (2)) (i . (0))) '#(9 10 11 12))))</code>"
      ],
      "text/plain": [
       "(DataFrame '#hash((col1 . (0)) (col2 . (1)) (col3 . (2))) (vector (ISeries '#hash((a . (0)) (d . (3)) (c . (2)) (b . (1))) '#(1 2 3 4)) (ISeries '#hash((e . (0)) (h . (3)) (g . (2)) (f . (1))) '#(5 6 7 8)) (ISeries '#hash((i . (0)) (k . (2)) (l . (3)) (j . (1))) '#(9 10 11 12))))"
      ]
     },
     "execution_count": 49,
     "metadata": {},
     "output_type": "execute_result"
    }
   ],
   "source": [
    "data-frame-integer"
   ]
  },
  {
   "cell_type": "code",
   "execution_count": 50,
   "metadata": {},
   "outputs": [
    {
     "data": {
      "text/html": [
       "<code>'(col1 col2 col3)</code>"
      ],
      "text/plain": [
       "'(col1 col2 col3)"
      ]
     },
     "execution_count": 50,
     "metadata": {},
     "output_type": "execute_result"
    }
   ],
   "source": [
    "(data-frame-names data-frame-integer) "
   ]
  },
  {
   "cell_type": "code",
   "execution_count": 51,
   "metadata": {},
   "outputs": [],
   "source": [
    "(set! data-frame-integer (data-frame-rename data-frame-integer 'col1 'col-one))"
   ]
  },
  {
   "cell_type": "code",
   "execution_count": 52,
   "metadata": {},
   "outputs": [
    {
     "data": {
      "text/html": [
       "<code>'(col-one col2 col3)</code>"
      ],
      "text/plain": [
       "'(col-one col2 col3)"
      ]
     },
     "execution_count": 52,
     "metadata": {},
     "output_type": "execute_result"
    }
   ],
   "source": [
    "(data-frame-names data-frame-integer) "
   ]
  },
  {
   "cell_type": "code",
   "execution_count": 53,
   "metadata": {},
   "outputs": [
    {
     "data": {
      "text/html": [
       "<code>(ISeries '#hash((b . (1)) (c . (2)) (d . (3)) (a . (0))) '#(1 2 3 4))</code>"
      ],
      "text/plain": [
       "(ISeries '#hash((a . (0)) (d . (3)) (c . (2)) (b . (1))) '#(1 2 3 4))"
      ]
     },
     "execution_count": 53,
     "metadata": {},
     "output_type": "execute_result"
    }
   ],
   "source": [
    "(data-frame-series data-frame-integer 'col-one)"
   ]
  },
  {
   "cell_type": "code",
   "execution_count": 54,
   "metadata": {},
   "outputs": [
    {
     "name": "stdout",
     "output_type": "stream",
     "text": [
      "    col-one          col2            col3       \n",
      "              1               5               9 \n",
      "              2               6              10 \n",
      "              3               7              11 \n",
      "              4               8              12 \n"
     ]
    }
   ],
   "source": [
    "(data-frame-head data-frame-integer)"
   ]
  },
  {
   "cell_type": "code",
   "execution_count": 55,
   "metadata": {},
   "outputs": [
    {
     "data": {
      "text/html": [
       "<code>(Dim 4 3)</code>"
      ],
      "text/plain": [
       "(Dim 4 3)"
      ]
     },
     "execution_count": 55,
     "metadata": {},
     "output_type": "execute_result"
    }
   ],
   "source": [
    "(data-frame-dim data-frame-integer)"
   ]
  },
  {
   "cell_type": "code",
   "execution_count": 56,
   "metadata": {},
   "outputs": [
    {
     "data": {
      "text/html": [
       "<code>(ColumnInfo 'first 'CATEGORICAL)</code>"
      ],
      "text/plain": [
       "(ColumnInfo 'first 'CATEGORICAL)"
      ]
     },
     "execution_count": 56,
     "metadata": {},
     "output_type": "execute_result"
    }
   ],
   "source": [
    "(ColumnInfo 'first 'CATEGORICAL)"
   ]
  },
  {
   "cell_type": "code",
   "execution_count": 57,
   "metadata": {},
   "outputs": [
    {
     "name": "stdout",
     "output_type": "stream",
     "text": [
      "col1\tcol2\tcol3\tcol4\n",
      "1\t5\t9\t13\n",
      "2\t6\t10\t14\n",
      "3\t7\t11\t15\n",
      "4\t8\t12\t16\n",
      "2\t6\t17\t18\n",
      "data-frame-groupby\n"
     ]
    },
    {
     "name": "stderr",
     "output_type": "stream",
     "text": [
      "data-frame-groupby: undefined;\n",
      " cannot reference undefined identifier\n",
      "  context...:\n",
      "   /Applications/Racket v6.12/share/pkgs/sandbox-lib/racket/sandbox.rkt:680:9: loop\n",
      "   /Applications/Racket v6.12/share/pkgs/sandbox-lib/racket/sandbox.rkt:493:0: call-with-custodian-shutdown\n",
      "   /Applications/Racket v6.12/collects/racket/private/more-scheme.rkt:148:2: call-with-break-parameterization\n",
      "   .../more-scheme.rkt:261:28\n",
      "   /Applications/Racket v6.12/share/pkgs/sandbox-lib/racket/sandbox.rkt:861:5: loop\n"
     ]
    }
   ],
   "source": [
    "(define columns-integer\n",
    "  (list \n",
    "   (cons 'col1 (new-ISeries (vector 1 2 3 4 2 ) #f))\n",
    "   (cons 'col2 (new-ISeries (vector 5 6 7 8 6) #f))\n",
    "   (cons 'col3 (new-ISeries (vector 9 10 11 12 17) #f))\n",
    "   (cons 'col4 (new-ISeries (vector 13 14 15 16 18) #f))))\n",
    "\n",
    "(define columns-categorical\n",
    "  (list \n",
    "   (cons 'col1 (new-CSeries (vector 'a 'b 'c 'd 'e)))\n",
    "   (cons 'col2 (new-CSeries (vector 'e 'f 'g 'h 'i)))\n",
    "   (cons 'col3 (new-CSeries (vector 'j 'k 'l 'm 'n)))))\n",
    "\n",
    "; create new data-frame-integer\n",
    "(define data-frame-integer (new-data-frame columns-integer))\n",
    "\n",
    "; create new data-frame-categorical\n",
    "(define data-frame-categorical (new-data-frame columns-categorical))\n",
    "\n",
    "(data-frame-write-tab data-frame-integer (current-output-port))\n",
    "\n",
    "(displayln \"data-frame-groupby\")\n",
    "(data-frame-groupby data-frame-integer (list 'col1))\n",
    "\n",
    "(data-frame-groupby data-frame-integer (list 'col2))\n",
    "\n",
    "(data-frame-groupby data-frame-integer (list 'col1 'col2))"
   ]
  },
  {
   "cell_type": "code",
   "execution_count": 58,
   "metadata": {},
   "outputs": [
    {
     "name": "stdout",
     "output_type": "stream",
     "text": [
      "col1\tcol2\tcol3\n",
      "1\ta\t21\n",
      "2\tb\t22\n",
      "3\tc\t23\n",
      "4\td\t24\n",
      "col1\tcol2\tcol3\n",
      "11\ta\t22\n",
      "21\tb\t22\n",
      "31\tg\t23\n",
      "41\td\t24\n"
     ]
    },
    {
     "name": "stderr",
     "output_type": "stream",
     "text": [
      "eval:23:23: require: namespace mismatch;\n",
      " reference to a module that is not available\n",
      "  reference phase: 0\n",
      "  referenced module: \"/Applications/Racket v6.12/collects/RacketFrames/dataframe/data-frame/data-frame-join.rkt\"\n",
      "  referenced phase level: 0\n",
      "  in: data-frame-join-left\n",
      "  context...:\n",
      "   /Applications/Racket v6.12/share/pkgs/sandbox-lib/racket/sandbox.rkt:680:9: loop\n",
      "   /Applications/Racket v6.12/share/pkgs/sandbox-lib/racket/sandbox.rkt:493:0: call-with-custodian-shutdown\n",
      "   /Applications/Racket v6.12/collects/racket/private/more-scheme.rkt:148:2: call-with-break-parameterization\n",
      "   .../more-scheme.rkt:261:28\n",
      "   /Applications/Racket v6.12/share/pkgs/sandbox-lib/racket/sandbox.rkt:861:5: loop\n"
     ]
    }
   ],
   "source": [
    "(define columns-mixed-5\n",
    "  (list \n",
    "   (cons 'col1 (new-ISeries (vector 1 2 3 4) #f))\n",
    "   (cons 'col2 (new-CSeries (vector 'a 'b 'c 'd)))\n",
    "   (cons 'col3 (new-ISeries (vector 21 22 23 24) #f))))\n",
    "\n",
    "(define columns-mixed-6\n",
    "  (list \n",
    "   (cons 'col1 (new-ISeries (vector 11 21 31 41) #f))\n",
    "   (cons 'col2 (new-CSeries (vector 'a 'b 'g 'd)))\n",
    "   (cons 'col3 (new-ISeries (vector 22 22 23 24) #f))))\n",
    "\n",
    "; create new data-frame-mixed-5\n",
    "(define data-frame-mixed-5 (new-data-frame columns-mixed-5))\n",
    "\n",
    "; create new data-frame-mixed-6\n",
    "(define data-frame-mixed-6 (new-data-frame columns-mixed-6))\n",
    "\n",
    "(data-frame-write-tab data-frame-mixed-5 (current-output-port))\n",
    "\n",
    "(data-frame-write-tab data-frame-mixed-6 (current-output-port))\n",
    "\n",
    "(data-frame-write-tab (data-frame-join-left data-frame-mixed-5 data-frame-mixed-6 #:on (list 'col3)) (current-output-port))\n",
    "\n",
    "(data-frame-write-tab (data-frame-join-inner data-frame-mixed-5 data-frame-mixed-6 #:on (list 'col2)) (current-output-port))\n",
    "\n",
    "(data-frame-write-tab (data-frame-join-right data-frame-mixed-5 data-frame-mixed-6 #:on (list 'col2)) (current-output-port))\n",
    "\n",
    "(data-frame-write-tab (data-frame-join-outer data-frame-mixed-5 data-frame-mixed-6 #:on (list 'col2)) (current-output-port))"
   ]
  },
  {
   "cell_type": "code",
   "execution_count": 63,
   "metadata": {},
   "outputs": [
    {
     "name": "stdout",
     "output_type": "stream",
     "text": [
      "Concat Test\n",
      "col1\tcol3\tcol4\n",
      "1\ta\t21\n",
      "2\tb\t22\n",
      "3\tc\t23\n",
      "4\td\t24\n",
      "col1\tcol3\tcol4\n",
      "1\te\t1\n",
      "2\tf\t2\n",
      "3\tg\t3\n",
      "4\th\t4\n",
      "Vertical Concat\n"
     ]
    },
    {
     "name": "stderr",
     "output_type": "stream",
     "text": [
      "eval:27:23: require: namespace mismatch;\n",
      " reference to a module that is not available\n",
      "  reference phase: 0\n",
      "  referenced module: \"/Applications/Racket v6.12/collects/RacketFrames/dataframe/data-frame/data-frame-concat.rkt\"\n",
      "  referenced phase level: 0\n",
      "  in: data-frame-concat-vertical\n",
      "  context...:\n",
      "   /Applications/Racket v6.12/share/pkgs/sandbox-lib/racket/sandbox.rkt:680:9: loop\n",
      "   /Applications/Racket v6.12/share/pkgs/sandbox-lib/racket/sandbox.rkt:493:0: call-with-custodian-shutdown\n",
      "   /Applications/Racket v6.12/collects/racket/private/more-scheme.rkt:148:2: call-with-break-parameterization\n",
      "   .../more-scheme.rkt:261:28\n",
      "   /Applications/Racket v6.12/share/pkgs/sandbox-lib/racket/sandbox.rkt:861:5: loop\n"
     ]
    }
   ],
   "source": [
    "(define columns-mixed-1\n",
    "  (list \n",
    "   (cons 'col1 (new-ISeries (vector 1 2 3 4) #f))\n",
    "   (cons 'col3 (new-CSeries (vector 'a 'b 'c 'd)))\n",
    "   (cons 'col4 (new-ISeries (vector 21 22 23 24) #f))))\n",
    "\n",
    "(define columns-mixed-2\n",
    "  (list \n",
    "   (cons 'col1 (new-ISeries (vector 1 2 3 4) #f))\n",
    "   (cons 'col3 (new-CSeries (vector 'e 'f 'g 'h)))\n",
    "   (cons 'col4 (new-ISeries (vector 1 2 3 4) #f))))\n",
    "\n",
    "; create new data-frame-mixed-1\n",
    "(define data-frame-mixed-1 (new-data-frame columns-mixed-1))\n",
    "\n",
    "; create new data-frame-mixed-2\n",
    "(define data-frame-mixed-2 (new-data-frame columns-mixed-2))\n",
    "\n",
    "(displayln \"Concat Test\")\n",
    "\n",
    "(data-frame-write-tab data-frame-mixed-1 (current-output-port))\n",
    "\n",
    "(data-frame-write-tab data-frame-mixed-2 (current-output-port))\n",
    "\n",
    "(displayln \"Vertical Concat\")\n",
    "\n",
    "(data-frame-write-tab (data-frame-concat-vertical data-frame-mixed-1 data-frame-mixed-2) (current-output-port))\n",
    "\n",
    "(displayln \"Horizontal Concat\")\n",
    "\n",
    "(data-frame-write-tab (data-frame-concat-horizontal data-frame-mixed-1 data-frame-mixed-2) (current-output-port))"
   ]
  },
  {
   "cell_type": "code",
   "execution_count": null,
   "metadata": {},
   "outputs": [],
   "source": []
  },
  {
   "cell_type": "code",
   "execution_count": null,
   "metadata": {},
   "outputs": [],
   "source": []
  }
 ],
 "metadata": {
  "kernelspec": {
   "display_name": "Python 3",
   "language": "python",
   "name": "python3"
  },
  "language_info": {
   "codemirror_mode": {
    "name": "ipython",
    "version": 3
   },
   "file_extension": ".py",
   "mimetype": "text/x-python",
   "name": "python",
   "nbconvert_exporter": "python",
   "pygments_lexer": "ipython3",
   "version": "3.6.5"
  }
 },
 "nbformat": 4,
 "nbformat_minor": 2
}
